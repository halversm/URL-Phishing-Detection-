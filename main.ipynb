{
 "cells": [
  {
   "cell_type": "code",
   "execution_count": 1,
   "metadata": {},
   "outputs": [],
   "source": [
    "# Importing the pickle module\n",
    "import pickle\n",
    "\n",
    "# Load the pickled model\n",
    "with open('rf_model.pkl', 'rb') as file:\n",
    "    rf_classifier = pickle.load(file)\n"
   ]
  },
  {
   "cell_type": "code",
   "execution_count": 2,
   "metadata": {},
   "outputs": [
    {
     "name": "stdout",
     "output_type": "stream",
     "text": [
      "1\n"
     ]
    }
   ],
   "source": [
    "# Import web scraping notebook\n",
    "%run webScraping-URL.ipynb"
   ]
  },
  {
   "cell_type": "code",
   "execution_count": 3,
   "metadata": {},
   "outputs": [
    {
     "name": "stdout",
     "output_type": "stream",
     "text": [
      "Domain: facebook.com\n",
      "Page Rank: 10.0\n",
      "Domain: facebook.com\n",
      "Page Rank: 10.0\n",
      "{'having_IP_Address': 0, 'URL_Length': 0, 'shortening_service': 0, 'having_At_Symbol': 0, 'double_slashing_redirecting': 0, 'prefix_suffix': 0, 'having_sub_domain': 0, 'domain_registration_length': 0, 'check_favicon': 1, 'check_non_standard_port': 0, 'check_https_token': 0, 'check_request_url': 0, 'check_anchor_url': 0, 'links_percentage': 0, 'server_form_handler': 0, 'submitting_to_email': 0, 'abnormal_URL': 0, 'website_forwarding': 0, 'status_bar_customization': 0, 'disabling_right_click': 0, 'using_popup_window': 0, 'IFrame_redirection': 0, 'age_of_domain': 0, 'dns_record': 0, 'website_traffic': 0, 'pank_rank': 0, 'google_indexing': 0, 'num_links_to_page': 0}\n"
     ]
    }
   ],
   "source": [
    "def extract_features(url):\n",
    "    # Call each feature extraction function and store the results\n",
    "    features = {\n",
    "        \"having_IP_Address\": having_IP_Address(url),\n",
    "        \"URL_Length\": URL_Length(url),\n",
    "        \"shortening_service\": shortening_service(url),\n",
    "        \"having_At_Symbol\": having_At_Symbol(url),\n",
    "        \"double_slashing_redirecting\": double_slashing_redirecting(url),\n",
    "        \"prefix_suffix\": prefix_suffix(url),\n",
    "        \"having_sub_domain\": having_sub_domain(url),\n",
    "        #\"SSLfinal_state\": SSLfinal_state(url),\n",
    "        \"domain_registration_length\": domain_registration_length(url),\n",
    "        \"check_favicon\": check_favicon(url),\n",
    "        \"check_non_standard_port\": check_non_standard_port(url),\n",
    "        \"check_https_token\": check_https_token(url),\n",
    "        \"check_request_url\": request_URL(url),\n",
    "        \"check_anchor_url\": check_anchor_percentage(url),\n",
    "        \"links_percentage\": calculate_links_percentage(url),\n",
    "        \"server_form_handler\": check_sfh(url),\n",
    "        \"submitting_to_email\": check_email_submission(url),\n",
    "        \"abnormal_URL\": check_abnormal_url(url),\n",
    "        \"website_forwarding\": check_website_forwarding(url),\n",
    "        \"status_bar_customization\": check_status_bar_customization(url),\n",
    "        \"disabling_right_click\": check_right_click_disabling(url),\n",
    "        \"using_popup_window\": check_pop_up_window(url),\n",
    "        \"IFrame_redirection\": check_iframe_redirection(url),\n",
    "        \"age_of_domain\": calculate_age_of_domain(url),\n",
    "        \"dns_record\": check_dns_record(url),\n",
    "        \"website_traffic\": get_traffic_and_pageRank(url),\n",
    "        \"pank_rank\": get_traffic_and_pageRank(url),\n",
    "        \"google_indexing\": is_indexed_by_google(url),\n",
    "        \"num_links_to_page\": links_pointing_to_page(url)\n",
    "    }\n",
    "    return features\n",
    "\n",
    "# Example usage:\n",
    "url = \"https://www.facebook.com\"\n",
    "features = extract_features(url)\n",
    "print(features)"
   ]
  },
  {
   "cell_type": "code",
   "execution_count": 4,
   "metadata": {},
   "outputs": [
    {
     "name": "stdout",
     "output_type": "stream",
     "text": [
      "[0]\n"
     ]
    }
   ],
   "source": [
    "# Convert features dictionary into data frame\n",
    "import pandas as pd\n",
    "features_df = pd.DataFrame([features])\n",
    "\n",
    "# Make predictions using the trained model\n",
    "predictions = rf_classifier.predict(features_df)\n",
    "\n",
    "# Print the predictions\n",
    "print(predictions)"
   ]
  },
  {
   "cell_type": "code",
   "execution_count": null,
   "metadata": {},
   "outputs": [],
   "source": []
  }
 ],
 "metadata": {
  "kernelspec": {
   "display_name": "Python 3",
   "language": "python",
   "name": "python3"
  },
  "language_info": {
   "codemirror_mode": {
    "name": "ipython",
    "version": 3
   },
   "file_extension": ".py",
   "mimetype": "text/x-python",
   "name": "python",
   "nbconvert_exporter": "python",
   "pygments_lexer": "ipython3",
   "version": "3.8.5"
  }
 },
 "nbformat": 4,
 "nbformat_minor": 4
}
